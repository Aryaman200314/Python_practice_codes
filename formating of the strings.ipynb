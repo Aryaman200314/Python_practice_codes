{
 "cells": [
  {
   "cell_type": "code",
   "execution_count": 5,
   "id": "c94853bc",
   "metadata": {},
   "outputs": [
    {
     "data": {
      "text/plain": [
       "'hello'"
      ]
     },
     "execution_count": 5,
     "metadata": {},
     "output_type": "execute_result"
    }
   ],
   "source": [
    "\"hello\""
   ]
  },
  {
   "cell_type": "code",
   "execution_count": 6,
   "id": "e3199d53",
   "metadata": {},
   "outputs": [
    {
     "name": "stdout",
     "output_type": "stream",
     "text": [
      "hello\n"
     ]
    }
   ],
   "source": [
    "print(\"hello\")"
   ]
  },
  {
   "cell_type": "code",
   "execution_count": 7,
   "id": "1a14ce18",
   "metadata": {},
   "outputs": [
    {
     "data": {
      "text/plain": [
       "5"
      ]
     },
     "execution_count": 7,
     "metadata": {},
     "output_type": "execute_result"
    }
   ],
   "source": [
    "len('hello')"
   ]
  },
  {
   "cell_type": "code",
   "execution_count": 8,
   "id": "bf33bd9a",
   "metadata": {},
   "outputs": [],
   "source": [
    "my_string = \"this is my string\""
   ]
  },
  {
   "cell_type": "code",
   "execution_count": 9,
   "id": "74764ca8",
   "metadata": {},
   "outputs": [
    {
     "name": "stdout",
     "output_type": "stream",
     "text": [
      "this is my string\n"
     ]
    }
   ],
   "source": [
    "print(my_string)"
   ]
  },
  {
   "cell_type": "code",
   "execution_count": 10,
   "id": "f8be1384",
   "metadata": {},
   "outputs": [
    {
     "data": {
      "text/plain": [
       "'ti sm tig'"
      ]
     },
     "execution_count": 10,
     "metadata": {},
     "output_type": "execute_result"
    }
   ],
   "source": [
    "my_string[::2]"
   ]
  },
  {
   "cell_type": "code",
   "execution_count": 12,
   "id": "1e9c299c",
   "metadata": {},
   "outputs": [
    {
     "data": {
      "text/plain": [
       "'ti'"
      ]
     },
     "execution_count": 12,
     "metadata": {},
     "output_type": "execute_result"
    }
   ],
   "source": [
    "my_string[0:4:2]"
   ]
  },
  {
   "cell_type": "code",
   "execution_count": 13,
   "id": "840262cf",
   "metadata": {},
   "outputs": [],
   "source": [
    "name = \"sam\"\n"
   ]
  },
  {
   "cell_type": "code",
   "execution_count": 14,
   "id": "8e4fe374",
   "metadata": {},
   "outputs": [],
   "source": [
    "last = name[1:]"
   ]
  },
  {
   "cell_type": "code",
   "execution_count": 15,
   "id": "86a8a39a",
   "metadata": {},
   "outputs": [
    {
     "name": "stdout",
     "output_type": "stream",
     "text": [
      "am\n"
     ]
    }
   ],
   "source": [
    "print(last)"
   ]
  },
  {
   "cell_type": "code",
   "execution_count": 19,
   "id": "c8f3163e",
   "metadata": {},
   "outputs": [],
   "source": [
    "man = 'p' + last"
   ]
  },
  {
   "cell_type": "code",
   "execution_count": 20,
   "id": "10baa24b",
   "metadata": {},
   "outputs": [
    {
     "name": "stdout",
     "output_type": "stream",
     "text": [
      "pam\n"
     ]
    }
   ],
   "source": [
    "print(man)"
   ]
  },
  {
   "cell_type": "code",
   "execution_count": 22,
   "id": "0f87e71c",
   "metadata": {},
   "outputs": [],
   "source": [
    "man = man.upper()  #this is inbuilt fucntion of a string "
   ]
  },
  {
   "cell_type": "code",
   "execution_count": 23,
   "id": "bb122a79",
   "metadata": {},
   "outputs": [
    {
     "name": "stdout",
     "output_type": "stream",
     "text": [
      "PAM\n"
     ]
    }
   ],
   "source": [
    "print(man)"
   ]
  },
  {
   "cell_type": "code",
   "execution_count": 24,
   "id": "2a21df48",
   "metadata": {},
   "outputs": [
    {
     "name": "stdout",
     "output_type": "stream",
     "text": [
      "This is ram string \n"
     ]
    }
   ],
   "source": [
    "print('This is {} string ' .format('ram'))"
   ]
  },
  {
   "cell_type": "code",
   "execution_count": 27,
   "id": "ceca6c21",
   "metadata": {},
   "outputs": [
    {
     "name": "stdout",
     "output_type": "stream",
     "text": [
      "the this car guy\n"
     ]
    }
   ],
   "source": [
    "print('the {2} {0} {1}' .format('car','guy','this'))"
   ]
  },
  {
   "cell_type": "markdown",
   "id": "98e3980f",
   "metadata": {},
   "source": [
    "# this is formating\n"
   ]
  },
  {
   "cell_type": "code",
   "execution_count": 28,
   "id": "5ff2e744",
   "metadata": {},
   "outputs": [],
   "source": [
    "# This is for f strings for formating a line into the given string \n"
   ]
  },
  {
   "cell_type": "markdown",
   "id": "e6a3b00d",
   "metadata": {},
   "source": [
    "# These are all the methods to do string formmating using simple .format and f strings."
   ]
  },
  {
   "cell_type": "code",
   "execution_count": 29,
   "id": "9da1fb4e",
   "metadata": {},
   "outputs": [],
   "source": [
    "name = \"sam\""
   ]
  },
  {
   "cell_type": "code",
   "execution_count": 30,
   "id": "683fcfc8",
   "metadata": {},
   "outputs": [
    {
     "name": "stdout",
     "output_type": "stream",
     "text": [
      "Hello sam welcome to bootcamp\n"
     ]
    }
   ],
   "source": [
    "print('Hello {} welcome to bootcamp' .format(name))"
   ]
  },
  {
   "cell_type": "code",
   "execution_count": 31,
   "id": "68b00539",
   "metadata": {},
   "outputs": [
    {
     "name": "stdout",
     "output_type": "stream",
     "text": [
      "Hello sam welcome to bootcamp\n"
     ]
    }
   ],
   "source": [
    "print('Hello {a} welcome to bootcamp' .format(a=name))"
   ]
  },
  {
   "cell_type": "code",
   "execution_count": 32,
   "id": "ca06e677",
   "metadata": {},
   "outputs": [
    {
     "name": "stdout",
     "output_type": "stream",
     "text": [
      "hello, sam welcome to bootcamp\n"
     ]
    }
   ],
   "source": [
    "print(f'hello, {name} welcome to bootcamp') #this is for f sting method "
   ]
  },
  {
   "cell_type": "code",
   "execution_count": null,
   "id": "de48a14b",
   "metadata": {},
   "outputs": [],
   "source": []
  }
 ],
 "metadata": {
  "kernelspec": {
   "display_name": "Python 3 (ipykernel)",
   "language": "python",
   "name": "python3"
  },
  "language_info": {
   "codemirror_mode": {
    "name": "ipython",
    "version": 3
   },
   "file_extension": ".py",
   "mimetype": "text/x-python",
   "name": "python",
   "nbconvert_exporter": "python",
   "pygments_lexer": "ipython3",
   "version": "3.11.4"
  }
 },
 "nbformat": 4,
 "nbformat_minor": 5
}
