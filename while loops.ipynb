{
 "cells": [
  {
   "cell_type": "code",
   "execution_count": null,
   "id": "6766565b",
   "metadata": {},
   "outputs": [],
   "source": [
    "x =0 \n",
    "while x <5:\n",
    "    print(x)\n",
    "#     x = x +1 or can also write this as\n",
    "    x += 1\n",
    "    "
   ]
  },
  {
   "cell_type": "markdown",
   "id": "32f15c24",
   "metadata": {},
   "source": [
    "three are break, continnue,pass"
   ]
  },
  {
   "cell_type": "code",
   "execution_count": 2,
   "id": "ceacf39a",
   "metadata": {},
   "outputs": [
    {
     "name": "stdout",
     "output_type": "stream",
     "text": [
      "End of script\n"
     ]
    }
   ],
   "source": [
    "x = [1,2,3]\n",
    "for items in x:\n",
    "    pass  #this key word passes and does nothing \n",
    "print('End of script')"
   ]
  },
  {
   "cell_type": "code",
   "execution_count": 3,
   "id": "e5e62714",
   "metadata": {},
   "outputs": [],
   "source": [
    "mystring = 'sammy'"
   ]
  },
  {
   "cell_type": "code",
   "execution_count": 7,
   "id": "f4d93cc8",
   "metadata": {},
   "outputs": [
    {
     "name": "stdout",
     "output_type": "stream",
     "text": [
      "s\n",
      "m\n",
      "m\n",
      "y\n"
     ]
    }
   ],
   "source": [
    "for letters in mystring:\n",
    "    if letters == 'a':\n",
    "        continue\n",
    "    print(letters)"
   ]
  },
  {
   "cell_type": "code",
   "execution_count": 11,
   "id": "31379030",
   "metadata": {},
   "outputs": [
    {
     "name": "stdout",
     "output_type": "stream",
     "text": [
      "s\n",
      "a\n",
      "y\n"
     ]
    }
   ],
   "source": [
    "for letter in mystring:\n",
    "    if letter == 'm':\n",
    "        continue  #it basicaly skips the condition that is given in it\n",
    "    print(letter)"
   ]
  },
  {
   "cell_type": "code",
   "execution_count": 19,
   "id": "b50c9626",
   "metadata": {},
   "outputs": [
    {
     "name": "stdout",
     "output_type": "stream",
     "text": [
      "s\n",
      "a\n",
      "m\n"
     ]
    }
   ],
   "source": [
    "for letter in mystring:\n",
    "    print(letter)\n",
    "    if letter == 'm':\n",
    "        break\n",
    "       \n",
    "    "
   ]
  },
  {
   "cell_type": "code",
   "execution_count": 24,
   "id": "156ced59",
   "metadata": {},
   "outputs": [
    {
     "name": "stdout",
     "output_type": "stream",
     "text": [
      "three found to addition stopped\n",
      "0\n",
      "three found to addition stopped\n",
      "1\n",
      "three found to addition stopped\n",
      "2\n"
     ]
    }
   ],
   "source": [
    "x =0\n",
    "\n",
    "while x<5:\n",
    "    if x == 3:\n",
    "        break\n",
    "    print('three found to addition stopped')\n",
    "        \n",
    "    print(x)\n",
    "    x += 1"
   ]
  },
  {
   "cell_type": "code",
   "execution_count": null,
   "id": "12ebd57c",
   "metadata": {},
   "outputs": [],
   "source": []
  }
 ],
 "metadata": {
  "kernelspec": {
   "display_name": "Python 3 (ipykernel)",
   "language": "python",
   "name": "python3"
  },
  "language_info": {
   "codemirror_mode": {
    "name": "ipython",
    "version": 3
   },
   "file_extension": ".py",
   "mimetype": "text/x-python",
   "name": "python",
   "nbconvert_exporter": "python",
   "pygments_lexer": "ipython3",
   "version": "3.11.4"
  }
 },
 "nbformat": 4,
 "nbformat_minor": 5
}
