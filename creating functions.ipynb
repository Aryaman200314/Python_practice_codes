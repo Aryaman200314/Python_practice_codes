{
 "cells": [
  {
   "cell_type": "code",
   "execution_count": 1,
   "id": "57e687b2",
   "metadata": {},
   "outputs": [],
   "source": [
    "def say_hello():\n",
    "    print('hello')"
   ]
  },
  {
   "cell_type": "code",
   "execution_count": 2,
   "id": "dcaf525b",
   "metadata": {},
   "outputs": [
    {
     "name": "stdout",
     "output_type": "stream",
     "text": [
      "hello\n"
     ]
    }
   ],
   "source": [
    "say_hello()"
   ]
  },
  {
   "cell_type": "code",
   "execution_count": 3,
   "id": "ba966f5f",
   "metadata": {},
   "outputs": [],
   "source": [
    "def hi(name):\n",
    "    print('hello' +name)"
   ]
  },
  {
   "cell_type": "code",
   "execution_count": 5,
   "id": "0a2a0fbb",
   "metadata": {},
   "outputs": [
    {
     "name": "stdout",
     "output_type": "stream",
     "text": [
      "helloyo\n"
     ]
    }
   ],
   "source": [
    "hi('yo')"
   ]
  },
  {
   "cell_type": "markdown",
   "id": "a5b018b1",
   "metadata": {},
   "source": [
    "# wee can also give a default value to the argument that has to be passed in the function "
   ]
  },
  {
   "cell_type": "code",
   "execution_count": 10,
   "id": "056cd744",
   "metadata": {},
   "outputs": [],
   "source": [
    "def hi(name=' This_is_Default_value'):\n",
    "    print('hello' +  name)"
   ]
  },
  {
   "cell_type": "code",
   "execution_count": 11,
   "id": "37bedc62",
   "metadata": {},
   "outputs": [
    {
     "name": "stdout",
     "output_type": "stream",
     "text": [
      "hello This_is_Default_value\n"
     ]
    }
   ],
   "source": [
    "hi()"
   ]
  },
  {
   "cell_type": "code",
   "execution_count": 12,
   "id": "2afea820",
   "metadata": {},
   "outputs": [],
   "source": [
    "input = \"this\""
   ]
  },
  {
   "cell_type": "code",
   "execution_count": 14,
   "id": "60ce1a29",
   "metadata": {},
   "outputs": [
    {
     "data": {
      "text/plain": [
       "str"
      ]
     },
     "execution_count": 14,
     "metadata": {},
     "output_type": "execute_result"
    }
   ],
   "source": [
    "type(input)"
   ]
  },
  {
   "cell_type": "code",
   "execution_count": 20,
   "id": "a5d04995",
   "metadata": {},
   "outputs": [],
   "source": [
    "def even_check(num):\n",
    "    result = num % 2 == 0\n",
    "    if result:\n",
    "        print('this is even')\n",
    "    else:\n",
    "        print('this is odd')\n",
    "    "
   ]
  },
  {
   "cell_type": "code",
   "execution_count": 22,
   "id": "9d5c73da",
   "metadata": {},
   "outputs": [
    {
     "name": "stdout",
     "output_type": "stream",
     "text": [
      "this is even\n"
     ]
    }
   ],
   "source": [
    "even_check(20)\n"
   ]
  },
  {
   "cell_type": "code",
   "execution_count": 33,
   "id": "764850dd",
   "metadata": {},
   "outputs": [],
   "source": [
    "def check_even_list(num_list):\n",
    "    \n",
    "    for nums in num_list:\n",
    "        if nums%2==0:\n",
    "            return True\n",
    "        else:\n",
    "            pass"
   ]
  },
  {
   "cell_type": "code",
   "execution_count": 34,
   "id": "94b1c7c1",
   "metadata": {},
   "outputs": [
    {
     "data": {
      "text/plain": [
       "True"
      ]
     },
     "execution_count": 34,
     "metadata": {},
     "output_type": "execute_result"
    }
   ],
   "source": [
    "check_even_list([1,2,3])"
   ]
  },
  {
   "cell_type": "code",
   "execution_count": 36,
   "id": "e1faab38",
   "metadata": {},
   "outputs": [],
   "source": [
    "check_even_list([1,3,5])"
   ]
  },
  {
   "cell_type": "code",
   "execution_count": 37,
   "id": "2183eeae",
   "metadata": {},
   "outputs": [
    {
     "data": {
      "text/plain": [
       "True"
      ]
     },
     "execution_count": 37,
     "metadata": {},
     "output_type": "execute_result"
    }
   ],
   "source": [
    "check_even_list([1,3,4])"
   ]
  },
  {
   "cell_type": "code",
   "execution_count": 38,
   "id": "43a8f433",
   "metadata": {},
   "outputs": [],
   "source": [
    "def check_even_list(num_list):\n",
    "    \n",
    "    for nums in num_list:\n",
    "        if nums%2==0:\n",
    "            return True\n",
    "        else:\n",
    "            pass\n",
    "    return False"
   ]
  },
  {
   "cell_type": "code",
   "execution_count": 39,
   "id": "f2b7ce5d",
   "metadata": {},
   "outputs": [
    {
     "data": {
      "text/plain": [
       "False"
      ]
     },
     "execution_count": 39,
     "metadata": {},
     "output_type": "execute_result"
    }
   ],
   "source": [
    "check_even_list([1,3])"
   ]
  },
  {
   "cell_type": "code",
   "execution_count": 45,
   "id": "7e9228cf",
   "metadata": {},
   "outputs": [],
   "source": [
    "#Return all the even number in the list\n",
    "\n",
    "def check_even_list(num_list):\n",
    "    #making a list in which all the even numbers are going to get stored \n",
    "    even_numbers = []\n",
    "    \n",
    "    for nums in num_list:\n",
    "        if nums%2==0:\n",
    "            even_numbers.append(nums)\n",
    "        else:\n",
    "            pass\n",
    "    return even_numbers"
   ]
  },
  {
   "cell_type": "code",
   "execution_count": 46,
   "id": "88725a3e",
   "metadata": {},
   "outputs": [
    {
     "data": {
      "text/plain": [
       "[2, 4]"
      ]
     },
     "execution_count": 46,
     "metadata": {},
     "output_type": "execute_result"
    }
   ],
   "source": [
    "check_even_list([1,2,3,4])"
   ]
  },
  {
   "cell_type": "code",
   "execution_count": 47,
   "id": "0d669c78",
   "metadata": {},
   "outputs": [
    {
     "data": {
      "text/plain": [
       "[]"
      ]
     },
     "execution_count": 47,
     "metadata": {},
     "output_type": "execute_result"
    }
   ],
   "source": [
    "check_even_list([3,5,7])"
   ]
  },
  {
   "cell_type": "code",
   "execution_count": 48,
   "id": "0cff5ed9",
   "metadata": {},
   "outputs": [
    {
     "data": {
      "text/plain": [
       "[44, 66]"
      ]
     },
     "execution_count": 48,
     "metadata": {},
     "output_type": "execute_result"
    }
   ],
   "source": [
    "check_even_list([44,66])"
   ]
  },
  {
   "cell_type": "markdown",
   "id": "15b1f9b8",
   "metadata": {},
   "source": [
    "#Returning multiple values from a function this can be done by using tuple upacking  "
   ]
  },
  {
   "cell_type": "code",
   "execution_count": 55,
   "id": "3d4e930a",
   "metadata": {},
   "outputs": [],
   "source": [
    "work_hours = [('abby',100),('sam',200),('cars',400)]"
   ]
  },
  {
   "cell_type": "code",
   "execution_count": 56,
   "id": "5b20c158",
   "metadata": {},
   "outputs": [
    {
     "name": "stdout",
     "output_type": "stream",
     "text": [
      "abby\n",
      "sam\n",
      "cars\n"
     ]
    }
   ],
   "source": [
    "for h,s in work_hours:\n",
    "    print(h)"
   ]
  },
  {
   "cell_type": "code",
   "execution_count": 57,
   "id": "801164ba",
   "metadata": {},
   "outputs": [
    {
     "name": "stdout",
     "output_type": "stream",
     "text": [
      "100\n",
      "200\n",
      "400\n"
     ]
    }
   ],
   "source": [
    "for h,s in work_hours:\n",
    "    print(s)"
   ]
  },
  {
   "cell_type": "code",
   "execution_count": 70,
   "id": "4b406c7f",
   "metadata": {},
   "outputs": [],
   "source": [
    "def max(work_hours):\n",
    "     current_max = 0\n",
    "     employee_of_month = ''\n",
    "        \n",
    "     for employee,hours in work_hours:\n",
    "            if hours>current_max:\n",
    "                current_max=hours\n",
    "                employee_of_month = employee\n",
    "            else:\n",
    "                pass\n",
    "            \n",
    "            return (emplyee_of_month,current_max)"
   ]
  },
  {
   "cell_type": "code",
   "execution_count": 71,
   "id": "6553a3a0",
   "metadata": {},
   "outputs": [
    {
     "ename": "NameError",
     "evalue": "name 'emplyee_of_month' is not defined",
     "output_type": "error",
     "traceback": [
      "\u001b[1;31m---------------------------------------------------------------------------\u001b[0m",
      "\u001b[1;31mNameError\u001b[0m                                 Traceback (most recent call last)",
      "Cell \u001b[1;32mIn[71], line 1\u001b[0m\n\u001b[1;32m----> 1\u001b[0m \u001b[38;5;28mmax\u001b[39m(work_hours)\n",
      "Cell \u001b[1;32mIn[70], line 12\u001b[0m, in \u001b[0;36mmax\u001b[1;34m(work_hours)\u001b[0m\n\u001b[0;32m      9\u001b[0m \u001b[38;5;28;01melse\u001b[39;00m:\n\u001b[0;32m     10\u001b[0m     \u001b[38;5;28;01mpass\u001b[39;00m\n\u001b[1;32m---> 12\u001b[0m \u001b[38;5;28;01mreturn\u001b[39;00m (emplyee_of_month,current_max)\n",
      "\u001b[1;31mNameError\u001b[0m: name 'emplyee_of_month' is not defined"
     ]
    }
   ],
   "source": [
    "max(work_hours)"
   ]
  },
  {
   "cell_type": "code",
   "execution_count": 1,
   "id": "684659fd",
   "metadata": {},
   "outputs": [],
   "source": [
    "work_hours = [('abby',100),('sam',400), ('j',800)]"
   ]
  },
  {
   "cell_type": "code",
   "execution_count": 2,
   "id": "0e978f97",
   "metadata": {},
   "outputs": [],
   "source": [
    "def e_c(work_hours):\n",
    "    current_max = 0\n",
    "    employee_m = ' '\n",
    "    \n",
    "    for emp,hours in work_hours:\n",
    "        if hours>current_max:\n",
    "            current_max = hours\n",
    "            employee_m = emp\n",
    "        else:\n",
    "            pass\n",
    "    return (employee_m,current_max)\n",
    "    \n"
   ]
  },
  {
   "cell_type": "code",
   "execution_count": 3,
   "id": "18cb0963",
   "metadata": {},
   "outputs": [
    {
     "data": {
      "text/plain": [
       "('j', 800)"
      ]
     },
     "execution_count": 3,
     "metadata": {},
     "output_type": "execute_result"
    }
   ],
   "source": [
    "e_c(work_hours)"
   ]
  },
  {
   "cell_type": "code",
   "execution_count": null,
   "id": "a011c7e6",
   "metadata": {},
   "outputs": [],
   "source": []
  }
 ],
 "metadata": {
  "kernelspec": {
   "display_name": "Python 3 (ipykernel)",
   "language": "python",
   "name": "python3"
  },
  "language_info": {
   "codemirror_mode": {
    "name": "ipython",
    "version": 3
   },
   "file_extension": ".py",
   "mimetype": "text/x-python",
   "name": "python",
   "nbconvert_exporter": "python",
   "pygments_lexer": "ipython3",
   "version": "3.11.4"
  }
 },
 "nbformat": 4,
 "nbformat_minor": 5
}
