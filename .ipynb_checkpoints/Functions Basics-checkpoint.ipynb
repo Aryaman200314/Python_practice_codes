{
 "cells": [
  {
   "cell_type": "code",
   "execution_count": 1,
   "id": "f475ffe0",
   "metadata": {},
   "outputs": [],
   "source": [
    "def name_of_the_function():\n",
    "    print('hello')"
   ]
  },
  {
   "cell_type": "code",
   "execution_count": 2,
   "id": "68391548",
   "metadata": {},
   "outputs": [
    {
     "name": "stdout",
     "output_type": "stream",
     "text": [
      "hello\n"
     ]
    }
   ],
   "source": [
    "name_of_the_function()"
   ]
  },
  {
   "cell_type": "code",
   "execution_count": 3,
   "id": "de756df6",
   "metadata": {},
   "outputs": [],
   "source": [
    "def name(name):\n",
    "    print('hello' + name)\n",
    "    "
   ]
  },
  {
   "cell_type": "code",
   "execution_count": 7,
   "id": "527cebbd",
   "metadata": {},
   "outputs": [
    {
     "name": "stdout",
     "output_type": "stream",
     "text": [
      "hello ary \n"
     ]
    }
   ],
   "source": [
    "name(\" ary \")"
   ]
  },
  {
   "cell_type": "code",
   "execution_count": 9,
   "id": "854327eb",
   "metadata": {},
   "outputs": [],
   "source": [
    "def name1(name):\n",
    "    return name"
   ]
  },
  {
   "cell_type": "code",
   "execution_count": 10,
   "id": "03131a0f",
   "metadata": {},
   "outputs": [
    {
     "data": {
      "text/plain": [
       "'aryaman'"
      ]
     },
     "execution_count": 10,
     "metadata": {},
     "output_type": "execute_result"
    }
   ],
   "source": [
    "name1(\"aryaman\")"
   ]
  },
  {
   "cell_type": "code",
   "execution_count": null,
   "id": "a5e25ff3",
   "metadata": {},
   "outputs": [],
   "source": [
    "# def add(n1,n2):\n",
    "    return n1+n2\n",
    "#return statement help us to store the value of the return statement in a variable."
   ]
  },
  {
   "cell_type": "code",
   "execution_count": 12,
   "id": "4e83f7ab",
   "metadata": {},
   "outputs": [],
   "source": [
    "result = add(1,2)"
   ]
  },
  {
   "cell_type": "code",
   "execution_count": 14,
   "id": "2ed67e71",
   "metadata": {},
   "outputs": [
    {
     "name": "stdout",
     "output_type": "stream",
     "text": [
      "3\n"
     ]
    }
   ],
   "source": [
    "print(result)"
   ]
  },
  {
   "cell_type": "code",
   "execution_count": null,
   "id": "8f815db3",
   "metadata": {},
   "outputs": [],
   "source": []
  }
 ],
 "metadata": {
  "kernelspec": {
   "display_name": "Python 3 (ipykernel)",
   "language": "python",
   "name": "python3"
  },
  "language_info": {
   "codemirror_mode": {
    "name": "ipython",
    "version": 3
   },
   "file_extension": ".py",
   "mimetype": "text/x-python",
   "name": "python",
   "nbconvert_exporter": "python",
   "pygments_lexer": "ipython3",
   "version": "3.11.4"
  }
 },
 "nbformat": 4,
 "nbformat_minor": 5
}
