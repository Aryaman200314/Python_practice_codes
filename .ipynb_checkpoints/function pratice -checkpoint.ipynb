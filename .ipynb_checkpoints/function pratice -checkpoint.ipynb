{
 "cells": [
  {
   "cell_type": "code",
   "execution_count": 6,
   "id": "c8f101cf",
   "metadata": {},
   "outputs": [],
   "source": [
    "def lasser_of_two_evens(a,b):\n",
    "    if a%2==0 and b%2==0:\n",
    "        if a<b:\n",
    "            result = a\n",
    "        else:\n",
    "            result = b\n",
    "    else:\n",
    "        if a>b:\n",
    "            result = a\n",
    "        else:\n",
    "            result = b\n",
    "            \n",
    "    return result "
   ]
  },
  {
   "cell_type": "code",
   "execution_count": 7,
   "id": "feb613af",
   "metadata": {},
   "outputs": [
    {
     "data": {
      "text/plain": [
       "2"
      ]
     },
     "execution_count": 7,
     "metadata": {},
     "output_type": "execute_result"
    }
   ],
   "source": [
    "lasser_of_two_evens(2,4)"
   ]
  },
  {
   "cell_type": "code",
   "execution_count": 8,
   "id": "f6fbcdb7",
   "metadata": {},
   "outputs": [
    {
     "data": {
      "text/plain": [
       "5"
      ]
     },
     "execution_count": 8,
     "metadata": {},
     "output_type": "execute_result"
    }
   ],
   "source": [
    "lasser_of_two_evens(5,4)    "
   ]
  },
  {
   "cell_type": "code",
   "execution_count": 9,
   "id": "806fb9c1",
   "metadata": {},
   "outputs": [],
   "source": [
    "#same code can be given as \n"
   ]
  },
  {
   "cell_type": "code",
   "execution_count": 10,
   "id": "4fa11521",
   "metadata": {},
   "outputs": [],
   "source": [
    "def lasser_of_two_evens(a,b):\n",
    "    if a%2==0 and b%2==0:\n",
    "        result = min(a,b)\n",
    "        \n",
    "        \n",
    "\n",
    "    else:\n",
    "        result = max(a,b)\n",
    "      \n",
    "            \n",
    "    return result "
   ]
  },
  {
   "cell_type": "code",
   "execution_count": 11,
   "id": "4c0339cd",
   "metadata": {},
   "outputs": [
    {
     "data": {
      "text/plain": [
       "2"
      ]
     },
     "execution_count": 11,
     "metadata": {},
     "output_type": "execute_result"
    }
   ],
   "source": [
    "lasser_of_two_evens(2,4)"
   ]
  },
  {
   "cell_type": "code",
   "execution_count": 12,
   "id": "55126dda",
   "metadata": {},
   "outputs": [
    {
     "data": {
      "text/plain": [
       "5"
      ]
     },
     "execution_count": 12,
     "metadata": {},
     "output_type": "execute_result"
    }
   ],
   "source": [
    "lasser_of_two_evens(5,4)   "
   ]
  },
  {
   "cell_type": "code",
   "execution_count": 13,
   "id": "b8c688b3",
   "metadata": {},
   "outputs": [],
   "source": [
    "# input two word strings if the forst word of that string is equal then return true else false"
   ]
  },
  {
   "cell_type": "code",
   "execution_count": 14,
   "id": "01591d2d",
   "metadata": {},
   "outputs": [],
   "source": [
    "def word_check(text):\n",
    "    wordlist = text.split()\n",
    "    \n",
    "    first = wordlist[0]\n",
    "    second = wordlist[1]\n",
    "        \n",
    "    return first[0] == second[0]\n",
    "    "
   ]
  },
  {
   "cell_type": "code",
   "execution_count": 15,
   "id": "e0c97100",
   "metadata": {},
   "outputs": [
    {
     "data": {
      "text/plain": [
       "True"
      ]
     },
     "execution_count": 15,
     "metadata": {},
     "output_type": "execute_result"
    }
   ],
   "source": [
    "word_check('lama lame')"
   ]
  },
  {
   "cell_type": "code",
   "execution_count": 16,
   "id": "6f3fd753",
   "metadata": {},
   "outputs": [
    {
     "data": {
      "text/plain": [
       "False"
      ]
     },
     "execution_count": 16,
     "metadata": {},
     "output_type": "execute_result"
    }
   ],
   "source": [
    "word_check('car van')"
   ]
  },
  {
   "cell_type": "code",
   "execution_count": 17,
   "id": "6f5384d1",
   "metadata": {},
   "outputs": [],
   "source": [
    "# given two integres if the sum of these 2 integers is 20 or one of the innteger is \n",
    "# 20 return true else return false  "
   ]
  },
  {
   "cell_type": "code",
   "execution_count": 18,
   "id": "08897557",
   "metadata": {},
   "outputs": [],
   "source": [
    "def check_20(n1,n2):\n",
    "    if n1+n2==20:\n",
    "        return True\n",
    "    elif n1==20:\n",
    "        return True\n",
    "    elif n2==20:\n",
    "        return True\n",
    "    else:\n",
    "        return False"
   ]
  },
  {
   "cell_type": "code",
   "execution_count": 19,
   "id": "ba400a1c",
   "metadata": {},
   "outputs": [
    {
     "data": {
      "text/plain": [
       "True"
      ]
     },
     "execution_count": 19,
     "metadata": {},
     "output_type": "execute_result"
    }
   ],
   "source": [
    "check_20(10,10)"
   ]
  },
  {
   "cell_type": "code",
   "execution_count": 20,
   "id": "b74188df",
   "metadata": {},
   "outputs": [
    {
     "data": {
      "text/plain": [
       "True"
      ]
     },
     "execution_count": 20,
     "metadata": {},
     "output_type": "execute_result"
    }
   ],
   "source": [
    "check_20(20,1)"
   ]
  },
  {
   "cell_type": "code",
   "execution_count": 21,
   "id": "4ade326c",
   "metadata": {},
   "outputs": [
    {
     "data": {
      "text/plain": [
       "False"
      ]
     },
     "execution_count": 21,
     "metadata": {},
     "output_type": "execute_result"
    }
   ],
   "source": [
    "check_20(0,1)"
   ]
  },
  {
   "cell_type": "markdown",
   "id": "ed5bf2a5",
   "metadata": {},
   "source": [
    "# level one problems \n"
   ]
  },
  {
   "cell_type": "code",
   "execution_count": 26,
   "id": "75a450eb",
   "metadata": {},
   "outputs": [],
   "source": [
    "#in this we have to return the string with 1 nad 4 letter upper cased \n",
    "# it is donne by using upper method\n",
    "#done is this way because upper method only upper cases the first letter of the\n",
    "#string that is passes to it \n",
    "\n",
    "def old_mac(name):\n",
    "    first_letter = name[0]\n",
    "    imbetween = name[1:3]\n",
    "    forth_letter = name[3]\n",
    "    rest = name[4:]\n",
    "    \n",
    "    return first_letter.upper() + imbetween + forth_letter.upper() + rest\n",
    "    "
   ]
  },
  {
   "cell_type": "code",
   "execution_count": 27,
   "id": "fd738469",
   "metadata": {},
   "outputs": [
    {
     "data": {
      "text/plain": [
       "'MacDonald'"
      ]
     },
     "execution_count": 27,
     "metadata": {},
     "output_type": "execute_result"
    }
   ],
   "source": [
    "old_mac('macdonald')"
   ]
  },
  {
   "cell_type": "markdown",
   "id": "4aa1f1fe",
   "metadata": {},
   "source": [
    "# Level tow problems \n"
   ]
  },
  {
   "cell_type": "code",
   "execution_count": 36,
   "id": "76106a0f",
   "metadata": {},
   "outputs": [],
   "source": [
    "def check_row_33(nums):\n",
    "    \n",
    "    for i in range(0,len(nums)-1):\n",
    "        if nums[i] == 3 and nums[i+1] == 3:\n",
    "            return True\n",
    "    \n",
    "    return False"
   ]
  },
  {
   "cell_type": "code",
   "execution_count": 37,
   "id": "7a951222",
   "metadata": {},
   "outputs": [
    {
     "data": {
      "text/plain": [
       "False"
      ]
     },
     "execution_count": 37,
     "metadata": {},
     "output_type": "execute_result"
    }
   ],
   "source": [
    "check_row_33([1,2,3])"
   ]
  },
  {
   "cell_type": "code",
   "execution_count": 38,
   "id": "d5c2a4c7",
   "metadata": {},
   "outputs": [
    {
     "data": {
      "text/plain": [
       "True"
      ]
     },
     "execution_count": 38,
     "metadata": {},
     "output_type": "execute_result"
    }
   ],
   "source": [
    "check_row_33([1,3,3])"
   ]
  },
  {
   "cell_type": "code",
   "execution_count": null,
   "id": "5f08935d",
   "metadata": {},
   "outputs": [],
   "source": [
    "\n"
   ]
  },
  {
   "cell_type": "code",
   "execution_count": 40,
   "id": "903bf82f",
   "metadata": {},
   "outputs": [],
   "source": [
    "def paper_doll(text):\n",
    "    result = ' '\n",
    "    for char in text:\n",
    "        result = result + char*3\n",
    "    \n",
    "    return result"
   ]
  },
  {
   "cell_type": "code",
   "execution_count": 41,
   "id": "82771215",
   "metadata": {},
   "outputs": [
    {
     "data": {
      "text/plain": [
       "' nnnaaammmeee???'"
      ]
     },
     "execution_count": 41,
     "metadata": {},
     "output_type": "execute_result"
    }
   ],
   "source": [
    "paper_doll('name?')"
   ]
  },
  {
   "cell_type": "code",
   "execution_count": 42,
   "id": "dfa7fd5c",
   "metadata": {},
   "outputs": [
    {
     "data": {
      "text/plain": [
       "' hhhiii   ssseeexxxyyy'"
      ]
     },
     "execution_count": 42,
     "metadata": {},
     "output_type": "execute_result"
    }
   ],
   "source": [
    "paper_doll('hi sexy')"
   ]
  },
  {
   "cell_type": "code",
   "execution_count": null,
   "id": "f87b2e4f",
   "metadata": {},
   "outputs": [],
   "source": [
    "\n"
   ]
  },
  {
   "cell_type": "code",
   "execution_count": 45,
   "id": "47f81f3d",
   "metadata": {},
   "outputs": [],
   "source": [
    "def black_jack(a,b,c):\n",
    "    if sum([a,b,c]) <= 21:\n",
    "        return sum([a,b,c])\n",
    "    elif "
   ]
  },
  {
   "cell_type": "code",
   "execution_count": null,
   "id": "bde40e89",
   "metadata": {},
   "outputs": [],
   "source": []
  },
  {
   "cell_type": "code",
   "execution_count": null,
   "id": "2be19f54",
   "metadata": {},
   "outputs": [],
   "source": []
  }
 ],
 "metadata": {
  "kernelspec": {
   "display_name": "Python 3 (ipykernel)",
   "language": "python",
   "name": "python3"
  },
  "language_info": {
   "codemirror_mode": {
    "name": "ipython",
    "version": 3
   },
   "file_extension": ".py",
   "mimetype": "text/x-python",
   "name": "python",
   "nbconvert_exporter": "python",
   "pygments_lexer": "ipython3",
   "version": "3.11.4"
  }
 },
 "nbformat": 4,
 "nbformat_minor": 5
}
