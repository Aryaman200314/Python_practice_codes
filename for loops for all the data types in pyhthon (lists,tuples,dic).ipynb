{
 "cells": [
  {
   "cell_type": "code",
   "execution_count": 1,
   "id": "53f349ad",
   "metadata": {},
   "outputs": [
    {
     "name": "stdout",
     "output_type": "stream",
     "text": [
      "1\n",
      "2\n",
      "3\n"
     ]
    }
   ],
   "source": [
    "for_for_loop = [1,2,3]  #this is a list i have created\n",
    "for name in for_for_loop:\n",
    "    print(name)"
   ]
  },
  {
   "cell_type": "code",
   "execution_count": 2,
   "id": "15ca61be",
   "metadata": {},
   "outputs": [],
   "source": [
    "# nums = [1,2,3,4,45,6,7,8,9]\n"
   ]
  },
  {
   "cell_type": "code",
   "execution_count": 3,
   "id": "08918038",
   "metadata": {},
   "outputs": [
    {
     "name": "stdout",
     "output_type": "stream",
     "text": [
      "1\n",
      "2\n",
      "3\n",
      "4\n",
      "45\n",
      "6\n",
      "7\n",
      "8\n",
      "9\n"
     ]
    }
   ],
   "source": [
    "# for jelly in nums:\n",
    "#     print(jelly)"
   ]
  },
  {
   "cell_type": "code",
   "execution_count": 13,
   "id": "5ae29fa7",
   "metadata": {},
   "outputs": [
    {
     "ename": "TypeError",
     "evalue": "'int' object is not iterable",
     "output_type": "error",
     "traceback": [
      "\u001b[1;31m---------------------------------------------------------------------------\u001b[0m",
      "\u001b[1;31mTypeError\u001b[0m                                 Traceback (most recent call last)",
      "Cell \u001b[1;32mIn[13], line 1\u001b[0m\n\u001b[1;32m----> 1\u001b[0m \u001b[38;5;28;01mfor\u001b[39;00m number \u001b[38;5;129;01min\u001b[39;00m nums:\n\u001b[0;32m      2\u001b[0m     \u001b[38;5;28;01mif\u001b[39;00m number \u001b[38;5;241m%\u001b[39m \u001b[38;5;241m2\u001b[39m \u001b[38;5;241m==\u001b[39m \u001b[38;5;241m0\u001b[39m:\n\u001b[0;32m      3\u001b[0m         \u001b[38;5;28mprint\u001b[39m(number)\n",
      "\u001b[1;31mTypeError\u001b[0m: 'int' object is not iterable"
     ]
    }
   ],
   "source": [
    "for number in nums:\n",
    "    if number % 2 == 0:\n",
    "        print(number)\n",
    "    else:\n",
    "        print('odd')"
   ]
  },
  {
   "cell_type": "code",
   "execution_count": null,
   "id": "c9ebfdaf",
   "metadata": {},
   "outputs": [],
   "source": []
  },
  {
   "cell_type": "code",
   "execution_count": 29,
   "id": "0e07f3e6",
   "metadata": {},
   "outputs": [],
   "source": [
    "num = [1,2,3,4,5,6,7,8,9] #this is a list "
   ]
  },
  {
   "cell_type": "code",
   "execution_count": 23,
   "id": "087b32b1",
   "metadata": {},
   "outputs": [
    {
     "name": "stdout",
     "output_type": "stream",
     "text": [
      "45\n"
     ]
    }
   ],
   "source": [
    "zero = 0\n",
    "for nums in num:\n",
    "    zero = zero + nums\n",
    "print(zero) #printing zero outside of the for loop by this it will\n",
    "            #only print the total sum after running the for loop"
   ]
  },
  {
   "cell_type": "code",
   "execution_count": 22,
   "id": "6e899df8",
   "metadata": {},
   "outputs": [
    {
     "name": "stdout",
     "output_type": "stream",
     "text": [
      "1\n",
      "3\n",
      "6\n",
      "10\n",
      "15\n",
      "21\n",
      "28\n",
      "36\n",
      "45\n"
     ]
    }
   ],
   "source": [
    "zero = 0\n",
    "for nums in num:\n",
    "    zero = zero + nums\n",
    "    print(zero) #in this print in inside the for this will print \n",
    "                #the number after every time for loop runes"
   ]
  },
  {
   "cell_type": "code",
   "execution_count": 24,
   "id": "246c4cde",
   "metadata": {},
   "outputs": [],
   "source": [
    "mtstring = 'hello world'"
   ]
  },
  {
   "cell_type": "code",
   "execution_count": 25,
   "id": "9644bd5b",
   "metadata": {},
   "outputs": [
    {
     "name": "stdout",
     "output_type": "stream",
     "text": [
      "h\n",
      "e\n",
      "l\n",
      "l\n",
      "o\n",
      " \n",
      "w\n",
      "o\n",
      "r\n",
      "l\n",
      "d\n"
     ]
    }
   ],
   "source": [
    "for words in mtstring:\n",
    "    print(words)"
   ]
  },
  {
   "cell_type": "code",
   "execution_count": 26,
   "id": "3aafba19",
   "metadata": {},
   "outputs": [
    {
     "name": "stdout",
     "output_type": "stream",
     "text": [
      "h\n",
      "e\n",
      "l\n",
      "l\n",
      "o\n",
      " \n",
      "w\n",
      "o\n",
      "r\n",
      "l\n",
      "d\n"
     ]
    }
   ],
   "source": [
    "for words in 'hello world':\n",
    "    print(words)"
   ]
  },
  {
   "cell_type": "code",
   "execution_count": 27,
   "id": "f760b720",
   "metadata": {},
   "outputs": [],
   "source": [
    "tupples = (1,2,3,4)"
   ]
  },
  {
   "cell_type": "code",
   "execution_count": 28,
   "id": "909c0606",
   "metadata": {},
   "outputs": [
    {
     "name": "stdout",
     "output_type": "stream",
     "text": [
      "1\n",
      "2\n",
      "3\n",
      "4\n"
     ]
    }
   ],
   "source": [
    "for tup in tupples:\n",
    "    print(tup)"
   ]
  },
  {
   "cell_type": "code",
   "execution_count": 30,
   "id": "89822333",
   "metadata": {},
   "outputs": [],
   "source": [
    "#this is tupple unpacking "
   ]
  },
  {
   "cell_type": "code",
   "execution_count": 32,
   "id": "735ae21e",
   "metadata": {},
   "outputs": [],
   "source": [
    "tup = [(1,2),(3,4),(5,6)]"
   ]
  },
  {
   "cell_type": "code",
   "execution_count": 35,
   "id": "72fd8ac7",
   "metadata": {},
   "outputs": [
    {
     "name": "stdout",
     "output_type": "stream",
     "text": [
      "(1, 2)\n",
      "(3, 4)\n",
      "(5, 6)\n"
     ]
    }
   ],
   "source": [
    "for items in tup:\n",
    "    print(items)"
   ]
  },
  {
   "cell_type": "code",
   "execution_count": 37,
   "id": "d3f993c2",
   "metadata": {},
   "outputs": [
    {
     "name": "stdout",
     "output_type": "stream",
     "text": [
      "1\n",
      "3\n",
      "5\n"
     ]
    }
   ],
   "source": [
    "for a,b in tup:\n",
    "    print(a)"
   ]
  },
  {
   "cell_type": "code",
   "execution_count": 39,
   "id": "39c75a07",
   "metadata": {},
   "outputs": [
    {
     "name": "stdout",
     "output_type": "stream",
     "text": [
      "2\n",
      "4\n",
      "6\n"
     ]
    }
   ],
   "source": [
    "for a,b in tup:\n",
    "    print(b)"
   ]
  },
  {
   "cell_type": "code",
   "execution_count": 40,
   "id": "b3b554ca",
   "metadata": {},
   "outputs": [],
   "source": [
    "#for loop in distonarirs/"
   ]
  },
  {
   "cell_type": "code",
   "execution_count": 43,
   "id": "b00b8245",
   "metadata": {},
   "outputs": [],
   "source": [
    "d = {'k1':1, 'k2':2 ,'k3':3}"
   ]
  },
  {
   "cell_type": "code",
   "execution_count": 44,
   "id": "c6c412e4",
   "metadata": {},
   "outputs": [
    {
     "name": "stdout",
     "output_type": "stream",
     "text": [
      "k1\n",
      "k2\n",
      "k3\n"
     ]
    }
   ],
   "source": [
    "for items in d:\n",
    "    print(items)"
   ]
  },
  {
   "cell_type": "code",
   "execution_count": 45,
   "id": "9891b27f",
   "metadata": {},
   "outputs": [],
   "source": [
    "#tupple unpacking also working in dic "
   ]
  },
  {
   "cell_type": "code",
   "execution_count": 46,
   "id": "92cc8b0b",
   "metadata": {},
   "outputs": [
    {
     "name": "stdout",
     "output_type": "stream",
     "text": [
      "1\n",
      "2\n",
      "3\n"
     ]
    }
   ],
   "source": [
    "for key,value in d:\n",
    "    print(value)"
   ]
  },
  {
   "cell_type": "code",
   "execution_count": null,
   "id": "97d9bb25",
   "metadata": {},
   "outputs": [],
   "source": [
    "for key,value "
   ]
  }
 ],
 "metadata": {
  "kernelspec": {
   "display_name": "Python 3 (ipykernel)",
   "language": "python",
   "name": "python3"
  },
  "language_info": {
   "codemirror_mode": {
    "name": "ipython",
    "version": 3
   },
   "file_extension": ".py",
   "mimetype": "text/x-python",
   "name": "python",
   "nbconvert_exporter": "python",
   "pygments_lexer": "ipython3",
   "version": "3.11.4"
  }
 },
 "nbformat": 4,
 "nbformat_minor": 5
}
