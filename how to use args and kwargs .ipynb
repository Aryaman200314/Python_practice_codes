{
 "cells": [
  {
   "cell_type": "code",
   "execution_count": 1,
   "id": "ff87766b",
   "metadata": {},
   "outputs": [],
   "source": [
    "def myfunc(a,b):\n",
    "    return sum((a,b)) *0.05"
   ]
  },
  {
   "cell_type": "code",
   "execution_count": 2,
   "id": "7c853f13",
   "metadata": {},
   "outputs": [
    {
     "data": {
      "text/plain": [
       "5.0"
      ]
     },
     "execution_count": 2,
     "metadata": {},
     "output_type": "execute_result"
    }
   ],
   "source": [
    "myfunc(40,60)"
   ]
  },
  {
   "cell_type": "code",
   "execution_count": 3,
   "id": "295224fe",
   "metadata": {},
   "outputs": [],
   "source": [
    "def myfunc(*args):\n",
    "    return sum(args) * 0.5"
   ]
  },
  {
   "cell_type": "code",
   "execution_count": 4,
   "id": "5fbc62f9",
   "metadata": {},
   "outputs": [
    {
     "data": {
      "text/plain": [
       "45.0"
      ]
     },
     "execution_count": 4,
     "metadata": {},
     "output_type": "execute_result"
    }
   ],
   "source": [
    "myfunc(40,50)"
   ]
  },
  {
   "cell_type": "code",
   "execution_count": 5,
   "id": "a3e9397f",
   "metadata": {},
   "outputs": [
    {
     "data": {
      "text/plain": [
       "200065.0"
      ]
     },
     "execution_count": 5,
     "metadata": {},
     "output_type": "execute_result"
    }
   ],
   "source": [
    "myfunc(30,40,50,10,400000)"
   ]
  },
  {
   "cell_type": "code",
   "execution_count": 8,
   "id": "71a164d8",
   "metadata": {},
   "outputs": [],
   "source": [
    " def myf (*args):\n",
    "        for items in args:\n",
    "            print(items)"
   ]
  },
  {
   "cell_type": "code",
   "execution_count": 11,
   "id": "deab14b9",
   "metadata": {},
   "outputs": [
    {
     "name": "stdout",
     "output_type": "stream",
     "text": [
      "30\n",
      "40\n",
      "50\n",
      "10\n",
      "400000\n"
     ]
    }
   ],
   "source": [
    "myf(30,40,50,10,400000)\n"
   ]
  },
  {
   "cell_type": "code",
   "execution_count": 12,
   "id": "b477e250",
   "metadata": {},
   "outputs": [],
   "source": [
    " def myf (*args):\n",
    "        for items in args:\n",
    "            print(items)"
   ]
  },
  {
   "cell_type": "code",
   "execution_count": 14,
   "id": "751a17f1",
   "metadata": {},
   "outputs": [
    {
     "name": "stdout",
     "output_type": "stream",
     "text": [
      "123\n",
      "4\n",
      "23\n",
      "4\n",
      "2\n",
      "4424\n",
      "32\n"
     ]
    }
   ],
   "source": [
    "myf(123,4,23,4,2,4424,32)"
   ]
  },
  {
   "cell_type": "code",
   "execution_count": null,
   "id": "2277bfcc",
   "metadata": {},
   "outputs": [],
   "source": []
  }
 ],
 "metadata": {
  "kernelspec": {
   "display_name": "Python 3 (ipykernel)",
   "language": "python",
   "name": "python3"
  },
  "language_info": {
   "codemirror_mode": {
    "name": "ipython",
    "version": 3
   },
   "file_extension": ".py",
   "mimetype": "text/x-python",
   "name": "python",
   "nbconvert_exporter": "python",
   "pygments_lexer": "ipython3",
   "version": "3.11.4"
  }
 },
 "nbformat": 4,
 "nbformat_minor": 5
}
